{
 "cells": [
  {
   "cell_type": "markdown",
   "id": "59550054-1651-4f40-90a6-3f92c2e2379a",
   "metadata": {},
   "source": [
    "# Explain\n",
    "\n",
    "* Check optimized values\n",
    "\n",
    "* optimization with parameters\n",
    "*              min, max, smin, smax\n",
    "opt_amp      = [1, 5]\n",
    "\n",
    "opt_hcrit    = [np.log10(0.001), np.log10(1)]\n",
    "\n",
    "opt_rcrit    = [0, 1]\n",
    "\n",
    "opt_mcrit    = [np.log10(1e-9), np.log10(1e-7)]\n",
    "\n",
    "opt_alb_smax = [0.7, 0.95]\n",
    "\n",
    "opt_alb_smin = [0.2, 0.6]\n",
    "\n",
    "opt_albi     = [0.2, 0.6]\n"
   ]
  },
  {
   "cell_type": "code",
   "execution_count": null,
   "id": "0f8c33ce-a7c7-4f8c-a6d0-ec603da1978d",
   "metadata": {},
   "outputs": [],
   "source": [
    "def unwrap_part(part):\n",
    "    '''unwarp information given particle\n",
    "    '''\n",
    "    if 'amp' in list(part):\n",
    "        print(f\"Tamp:     {part['amp']:.4f}\")\n",
    "    else:\n",
    "        print(f\"Tamp:     {part['amp0']:.4f}\")\n",
    "    print(f\"hcrit:    {10**part['hcrit']:.4f}\")\n",
    "    print(f\"rcrit:    {part['rcrit']:.4f}\")\n",
    "    print(f\"mcrit:    {10**part['mcrit']:.2e}\")\n",
    "    print(f\"alb_smax: {part['alb_smax']:.4f}\")\n",
    "    print(f\"alb_smin: {part['alb_smin']:.4f}\")\n",
    "    print(f\"albi:     {part['albi']:.4f}\")"
   ]
  },
  {
   "cell_type": "code",
   "execution_count": null,
   "id": "262c8444-8ed9-4213-a134-88ff1bd4f03e",
   "metadata": {},
   "outputs": [],
   "source": [
    "%load_ext autoreload\n",
    "%autoreload 2\n",
    "%matplotlib inline\n",
    "from issmmodules import *\n",
    "import matplotlib.pyplot as plt\n",
    "import pandas\n",
    "import json\n",
    "import numpy as np\n",
    "import scipy.io\n",
    "from loadmodel_netcdf import *\n",
    "import pyseb\n",
    "import tqdm\n",
    "sys.path.append('./src')\n",
    "from prepare_semic_day import *"
   ]
  },
  {
   "cell_type": "markdown",
   "id": "5cf0691d-914e-4641-9431-8ab6b6a50527",
   "metadata": {},
   "source": [
    "# Summary: PSO-mon-opt_method=2"
   ]
  },
  {
   "cell_type": "code",
   "execution_count": null,
   "id": "42144b97-c5a6-40ad-982d-a23a8fc02e73",
   "metadata": {},
   "outputs": [],
   "source": [
    "# datadir = './data/PSO_mon2_debug/'\n",
    "datadir = './data/PSO_mon2'\n",
    "dflog = pandas.read_csv(datadir + 'PSO_summary.csv',index_col=0)\n",
    "\n",
    "display(dflog)\n",
    "\n",
    "fig, ax = plt.subplots()\n",
    "# ax.plot(dflog.index, dflog['avg'], color='b')\n",
    "# ax.plot(dflog.index, dflog['avg'], color='k', label='min')\n",
    "ax.errorbar(dflog.index, dflog['avg'], yerr=dflog['std'])\n",
    "ax.legend()\n",
    "\n",
    "# now, find where is the last generation?\n",
    "g = dflog['gen'].values[-1]\n",
    "Tamp = []\n",
    "alb_smax = []\n",
    "hcrit = []\n",
    "for _g in range(g+1):\n",
    "    with open(f'{datadir}/PSO_gen{_g}.json','r') as fid:\n",
    "        part = json.load(fid)\n",
    "    \n",
    "    print(f'Current generation: {_g}')\n",
    "    # unwrap_part(part['0']['global_best'][0])\n",
    "    Tamp.append(part['0']['global_best']['amp0'])\n",
    "    alb_smax.append(part['0']['global_best']['alb_smax'])\n",
    "    hcrit.append(part['0']['global_best']['hcrit'])\n",
    "\n",
    "# okay, show best values\n",
    "with open(f'{datadir}/PSO_gen{g}.json','r') as fid:\n",
    "    part = json.load(fid)\n",
    "unwrap_part(part['0']['global_best'])\n",
    "\n",
    "fig, axs = plt.subplots(2,2)\n",
    "axs = axs.flatten()\n",
    "\n",
    "ax = axs[0]\n",
    "ax.plot(dflog.index, np.array(Tamp))\n",
    "ax.set_xlabel('generation')\n",
    "ax.set_ylabel('Tamp (K)')\n",
    "\n",
    "ax = axs[1]\n",
    "ax.plot(dflog.index, np.array(alb_smax))\n",
    "ax.set_xlabel('generation')\n",
    "ax.set_ylabel('maximum snow albedo (-)')\n",
    "fig.tight_layout()\n",
    "\n",
    "ax = axs[2]\n",
    "ax.plot(dflog.index, 10**np.array(hcrit))\n",
    "ax.set_xlabel('generation')\n",
    "ax.set_ylabel('critical height (m)')\n",
    "fig.tight_layout()"
   ]
  },
  {
   "cell_type": "markdown",
   "id": "5521b691-0866-4d83-b7c1-86f054bdf306",
   "metadata": {},
   "source": [
    "# Load ANT model"
   ]
  },
  {
   "cell_type": "code",
   "execution_count": null,
   "id": "7eb4c3de-1a10-49e8-ab0b-5e59e993a834",
   "metadata": {},
   "outputs": [],
   "source": [
    "from interpRACMO23p2_ERA5 import *\n",
    "md = loadmodel_netcdf('../data/ANT_Mesh.nc')"
   ]
  },
  {
   "cell_type": "code",
   "execution_count": null,
   "id": "1added72-f892-4e0e-965a-c19d49b893ac",
   "metadata": {},
   "outputs": [],
   "source": [
    "racmo_melt, racmo_time = interpRACMO23p2_ERA5(md.mesh.lat, md.mesh.long, 'snowmelt',\n",
    "                          'time',[datetime.datetime(1980,1,1), datetime.datetime(2001,1,1)],'use_cftime',1)\n",
    "racmo_TotalMelt = TransientTotalTimeSeries(md.mesh.elements-1, md.mesh.x, md.mesh.y, racmo_melt,\n",
    "                                          'mask',md.mask.ice_levelset<0)\n",
    "racmo_time = cftime2datetime(racmo_time)"
   ]
  },
  {
   "cell_type": "markdown",
   "id": "4a63a4fa-4e5b-4a86-92f0-7f6115861edc",
   "metadata": {},
   "source": [
    "# Load ERA5 dataset"
   ]
  },
  {
   "cell_type": "code",
   "execution_count": null,
   "id": "e0de5cee-e8a8-48cf-ad6c-0161a359a635",
   "metadata": {},
   "outputs": [],
   "source": [
    "if 0: # interpoalte! dataset\n",
    "    data_era5 = {}\n",
    "    for varname in ['d2m','t2m','msr','mtpr','msdwlwrf','msdwswrf','sp','wind2m']:\n",
    "        print(f'Processing... {varname}')\n",
    "        ds = interpCDO(md.mesh.lat, md.mesh.long,\n",
    "                       f'../data/ERA5/day/era5_{varname}_1980,2000.nc', varname=varname)\n",
    "        data_era5[varname] = ds[varname].values\n",
    "    \n",
    "    print('Save dataset in matlab format.')\n",
    "    scipy.io.savemat('../data/Prepare/ANT_InterpERA5.mat',data_era5)\n",
    "else:\n",
    "    print('Load saved dataset.')\n",
    "    data_era5 = scipy.io.loadmat('../data/Prepare/ANT_InterpERA5.mat')"
   ]
  },
  {
   "cell_type": "markdown",
   "id": "ca55de33-8fe9-4528-bfe1-faec9160e588",
   "metadata": {},
   "source": [
    "# Initialize forcing variables of ERA5 for SEMIC"
   ]
  },
  {
   "cell_type": "code",
   "execution_count": null,
   "id": "402b6356-3176-4de4-8e03-3fc2b8cdc79a",
   "metadata": {},
   "outputs": [],
   "source": [
    "rho_freshwater = 1000 # kg m-3\n",
    "\n",
    "# extract ice shelf region\n",
    "# pos_iceshelf = np.where(md.mask.ocean_levelset < 0)[0]\n",
    "# pos_iceshelf = np.where(np.ones((md.mesh.numberofvertices,)))[0]\n",
    "pos_iceshelf = md.mesh.extractedvertices-1\n",
    "\n",
    "print('ERA5: Set forcing variable for SEMIC.')\n",
    "sf = data_era5['msr'].T/rho_freshwater\n",
    "rf = (data_era5['mtpr'].T - data_era5['msr'].T)/rho_freshwater\n",
    "\n",
    "t2m = data_era5['t2m'].T\n",
    "sp  = data_era5['sp'].T # surface pressure\n",
    "lwd = data_era5['msdwlwrf'].T\n",
    "swd = data_era5['msdwswrf'].T\n",
    "\n",
    "wind = data_era5['wind2m'].T\n",
    "\n",
    "# estimate the air density and specific humidity\n",
    "print('ERA5: Prepare specific humidity and air density')\n",
    "qs = pyseb.utils.Dewpoint2SpecificHumidity(data_era5['d2m'], data_era5['sp'])\n",
    "rho_air = pyseb.utils.AirDensityFromSpecificHumidity(data_era5['sp'], data_era5['t2m'], q=qs)\n",
    "qq = qs.T\n",
    "rhoa = rho_air.T\n",
    "\n",
    "nx    = np.shape(qq)[0]\n",
    "ntime = np.shape(qq)[1]\n",
    "\n",
    "print(f'ERA5: Available maximum size of time: {ntime}')"
   ]
  },
  {
   "cell_type": "code",
   "execution_count": null,
   "id": "41d45b24-1d81-4ab2-96d3-653fc376dfac",
   "metadata": {},
   "outputs": [],
   "source": [
    "# get default semic\n",
    "semic = prepare_semic_day()\n",
    "\n",
    "nloop = 10\n",
    "nx    = np.shape(sf)[0]\n",
    "ntime = np.shape(sf)[1]\n",
    "\n",
    "# initialize results array\n",
    "# ntime = 365\n",
    "smb     = np.zeros((nx,ntime))\n",
    "# smb_snow= np.zeros((nx,ntime))\n",
    "melt    = np.zeros((nx,ntime))\n",
    "tsurf   = np.zeros((nx,ntime))\n",
    "alb     = np.zeros((nx,ntime))\n",
    "netswd  = np.zeros((nx,ntime))\n",
    "shf     = np.zeros((nx, ntime))\n",
    "lhf     = np.zeros((nx, ntime))\n",
    "\n",
    "for loop in range(nloop):\n",
    "    print(f'   nloop: {loop}')\n",
    "    for i in tqdm.tqdm(range(ntime)):\n",
    "        semic.sf   = sf[:,i]\n",
    "        semic.rf   = rf[:,i]\n",
    "        semic.swd  = swd[:,i]\n",
    "        semic.lwd  = lwd[:,i]\n",
    "        semic.wind = wind[:,i]\n",
    "        semic.sp   = sp[:,i]\n",
    "        semic.rhoa = rhoa[:,i]\n",
    "        semic.qq   = qq[:,i]\n",
    "        semic.t2m  = t2m[:,i]\n",
    "        semic.RunEnergyAndMassBalance()\n",
    "        # break\n",
    "        if loop == nloop-1:\n",
    "            smb[:,i]   = semic.smb\n",
    "            melt[:,i]  = semic.melt\n",
    "            tsurf[:,i] = semic.tsurf\n",
    "            alb[:,i]   = semic.alb\n",
    "            netswd[:,i]= (1-alb[:,i])*swd[:,i]"
   ]
  },
  {
   "cell_type": "markdown",
   "id": "455e7db7-5750-4134-8b07-8c1fb8c8b770",
   "metadata": {},
   "source": [
    "unit for each variable\n",
    "\n",
    "smb ~ water m/sec"
   ]
  },
  {
   "cell_type": "code",
   "execution_count": null,
   "id": "82d9e574-0699-425e-9ead-2e76b9fd3fe3",
   "metadata": {},
   "outputs": [],
   "source": [
    "TotalSmb  = TransientTotalTimeSeries(md.mesh.elements-1, md.mesh.x, md.mesh.y ,smb, 'mask',md.mask.ice_levelset<0) *md.materials.rho_freshwater*md.constants.yts\n",
    "TotalMelt = TransientTotalTimeSeries(md.mesh.elements-1, md.mesh.x, md.mesh.y, melt,'mask',md.mask.ice_levelset<0)*md.materials.rho_freshwater*md.constants.yts\n",
    "\n",
    "semic_time = pandas.date_range(datetime.datetime(1980,1,1), periods=ntime)\n",
    "dssemic = xarray.Dataset(data_vars={'smb':(['nx','time'], smb),\n",
    "                                   'melt':(['nx','time'], melt),\n",
    "                                   'swsn':(['nx','time'], netswd),\n",
    "                                   'tsurf':(['nx','time'], tsurf),\n",
    "                                   'TotalSmb':(['time'], TotalSmb),\n",
    "                                   'TotalMelt':(['time'], TotalMelt)},\n",
    "                        coords={'x':('nx',md.mesh.x),\n",
    "                               'y':('nx',md.mesh.y),\n",
    "                               'time':('time',semic_time)})\n",
    "dssemic = dssemic.resample(time=\"1MS\").mean(dim='time')"
   ]
  },
  {
   "cell_type": "code",
   "execution_count": null,
   "id": "7c2de7c5-d5f1-48af-bda1-52aa29a90055",
   "metadata": {},
   "outputs": [],
   "source": [
    "display(dssemic)"
   ]
  },
  {
   "cell_type": "code",
   "execution_count": null,
   "id": "d4e922f0-2e92-4d41-8ec4-8f20818a63c2",
   "metadata": {},
   "outputs": [],
   "source": [
    "plotmodel(md,'nlines',1,'ncols',2,\n",
    "          'data', dssemic['melt'].mean(axis=0)*md.materials.rho_freshwater/md.materials.rho_ice*md.constants.yts,\n",
    "         'data',np.mean(racmo_melt,axis=1),\n",
    "         'caxis#all',[0, 0.1],)"
   ]
  },
  {
   "cell_type": "code",
   "execution_count": null,
   "id": "c0197837-f418-4471-b945-7c97cb394825",
   "metadata": {},
   "outputs": [],
   "source": [
    "fig, ax = plt.subplots()\n",
    "ax.plot(dssemic.time, dssemic.TotalMelt/1e+12)\n",
    "ax.plot(racmo_time, racmo_TotalMelt*md.materials.rho_ice/1e+12)"
   ]
  }
 ],
 "metadata": {
  "kernelspec": {
   "display_name": "Python 3 (ipykernel)",
   "language": "python",
   "name": "python3"
  },
  "language_info": {
   "codemirror_mode": {
    "name": "ipython",
    "version": 3
   },
   "file_extension": ".py",
   "mimetype": "text/x-python",
   "name": "python",
   "nbconvert_exporter": "python",
   "pygments_lexer": "ipython3",
   "version": "3.9.16"
  }
 },
 "nbformat": 4,
 "nbformat_minor": 5
}
