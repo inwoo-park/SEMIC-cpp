{
 "cells": [
  {
   "cell_type": "markdown",
   "metadata": {},
   "source": [
    "# Load modules"
   ]
  },
  {
   "cell_type": "code",
   "execution_count": null,
   "metadata": {},
   "outputs": [],
   "source": [
    "%matplotlib inline\n",
    "import pyseb\n",
    "import matplotlib.pyplot as plt\n",
    "import numpy as np"
   ]
  },
  {
   "cell_type": "code",
   "execution_count": null,
   "metadata": {},
   "outputs": [],
   "source": [
    "# initialize semic module\n",
    "semic = pyseb.SEMIC()"
   ]
  },
  {
   "cell_type": "code",
   "execution_count": null,
   "metadata": {},
   "outputs": [],
   "source": [
    "nx = 1\n",
    "semic.Initialize(nx)\n",
    "print(f'   tmin = {semic.Param.tmin}')\n",
    "print(f'   tmax = {semic.Param.tmax}')"
   ]
  },
  {
   "cell_type": "markdown",
   "metadata": {},
   "source": [
    "# Plot albedo integration\n",
    "\n",
    "* Use Oerlemans et al. (1998)\n",
    "* Use ISBA-MEB (Napoly et al., 2020)\n",
    "\n",
    "References\n",
    "* Oerlemans, J., & Knap, W. H. (1998). A 1 year record of global radiation and albedo in the ablation zone of Morteratschgletscher, Switzerland. Journal of Glaciology, 44(147), 231–238. https://doi.org/10.3189/S0022143000002574\n",
    "* Napoly, A., Boone, A., & Welfringer, T. (2020). ISBA-MEB (SURFEX v8.1): Model snow evaluation for local-scale forest sites. Geoscientific Model Development, 13(12), 6523–6545. https://doi.org/10.5194/gmd-13-6523-2020\n"
   ]
  },
  {
   "cell_type": "code",
   "execution_count": null,
   "metadata": {},
   "outputs": [],
   "source": [
    "hsnow = np.linspace(0, 5, 101).reshape((-1,1))\n",
    "alb_smax = 0.85\n",
    "albi = 0.6\n",
    "\n",
    "f_alb1 = 1 - np.exp(-hsnow/1)\n",
    "f_alb2 = np.min(hsnow/1, initial=1.0, axis=1).reshape((-1,1))\n",
    "f_alb2 = np.max(f_alb2, axis=1, initial=0.0)\n",
    "\n",
    "fig, ax = plt.subplots()\n",
    "ax.plot(hsnow, f_alb1, label='Oerlemans')\n",
    "ax.plot(hsnow, f_alb2, label='ISBA-MEB')\n",
    "ax.set_xlabel('surface temperature (K)')\n",
    "ax.set_ylabel('albedo fraction (-)')"
   ]
  },
  {
   "cell_type": "markdown",
   "metadata": {},
   "source": [
    "# Plot Slater's snow albedo"
   ]
  },
  {
   "cell_type": "code",
   "execution_count": null,
   "metadata": {},
   "outputs": [],
   "source": [
    "tsurf = np.linspace(273.15-50, 273.15, 101)\n",
    "albs  = np.zeros(np.shape(tsurf))\n",
    "# tmin  = semic.Param.tmin\n",
    "tmin  = 273.15-10\n",
    "tmax  = semic.Param.tmax\n",
    "alb_smax = 0.85\n",
    "alb_smin = 0.5\n",
    "for i in range(len(tsurf)):\n",
    "\talbs[i] = semic.Albedo_Slater(tsurf[i], tmin, tmax, alb_smax, alb_smin)\n",
    "\n",
    "fig, ax = plt.subplots()\n",
    "ax.plot(tsurf, albs)\n",
    "ax.set_xlabel('surface temperature (K)')\n",
    "ax.set_ylabel('snow albedo (-)')"
   ]
  }
 ],
 "metadata": {
  "kernelspec": {
   "display_name": "Python 3",
   "language": "python",
   "name": "python3"
  },
  "language_info": {
   "codemirror_mode": {
    "name": "ipython",
    "version": 3
   },
   "file_extension": ".py",
   "mimetype": "text/x-python",
   "name": "python",
   "nbconvert_exporter": "python",
   "pygments_lexer": "ipython3",
   "version": "3.11.9"
  }
 },
 "nbformat": 4,
 "nbformat_minor": 2
}
