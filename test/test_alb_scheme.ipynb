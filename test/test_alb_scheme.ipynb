{
 "cells": [
  {
   "cell_type": "markdown",
   "metadata": {},
   "source": [
    "# Load modules"
   ]
  },
  {
   "cell_type": "code",
   "execution_count": null,
   "metadata": {},
   "outputs": [],
   "source": [
    "%matplotlib inline\n",
    "import pyseb\n",
    "import matplotlib.pyplot as plt\n",
    "import numpy as np"
   ]
  },
  {
   "cell_type": "code",
   "execution_count": null,
   "metadata": {},
   "outputs": [],
   "source": [
    "# initialize semic module\n",
    "semic = pyseb.SEMIC()"
   ]
  },
  {
   "cell_type": "code",
   "execution_count": null,
   "metadata": {},
   "outputs": [],
   "source": [
    "nx = 1\n",
    "semic.Initialize(nx)\n",
    "print(f'   tmin = {semic.Param.tmin}')\n",
    "print(f'   tmax = {semic.Param.tmax}')"
   ]
  },
  {
   "cell_type": "markdown",
   "metadata": {},
   "source": [
    "# Plot Slater's snow albedo"
   ]
  },
  {
   "cell_type": "code",
   "execution_count": null,
   "metadata": {},
   "outputs": [],
   "source": [
    "tsurf = np.linspace(273.15-50, 273.15, 101)\n",
    "albs  = np.zeros(np.shape(tsurf))\n",
    "# tmin  = semic.Param.tmin\n",
    "tmin  = 273.15-10\n",
    "tmax  = semic.Param.tmax\n",
    "alb_smax = 0.85\n",
    "alb_smin = 0.5\n",
    "for i in range(len(tsurf)):\n",
    "\talbs[i] = semic.Albedo_Slater(tsurf[i], tmin, tmax, alb_smax, alb_smin)\n",
    "\n",
    "fig, ax = plt.subplots()\n",
    "ax.plot(tsurf, albs)\n",
    "ax.set_xlabel('surface temperature (K)')\n",
    "ax.set_ylabel('snow albedo (-)')"
   ]
  }
 ],
 "metadata": {
  "kernelspec": {
   "display_name": "Python 3",
   "language": "python",
   "name": "python3"
  },
  "language_info": {
   "codemirror_mode": {
    "name": "ipython",
    "version": 3
   },
   "file_extension": ".py",
   "mimetype": "text/x-python",
   "name": "python",
   "nbconvert_exporter": "python",
   "pygments_lexer": "ipython3",
   "version": "3.10.4"
  }
 },
 "nbformat": 4,
 "nbformat_minor": 2
}
