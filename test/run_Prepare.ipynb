{
 "cells": [
  {
   "cell_type": "markdown",
   "id": "9f07bd65-de4a-4605-abe9-2bb07b2fd3a9",
   "metadata": {},
   "source": [
    "# Explain\n",
    "\n",
    "* Before performing parameter estimation for daily and monthly dataset, we interpolate daily and monthly dataset, and save interpolated datasets.\n",
    "* To fill daily data from monthly data, we use `cubic` spline method, and extrapolate the outside of time boundary with (t2m[0], t2m[-1]]) values."
   ]
  },
  {
   "cell_type": "markdown",
   "id": "aceebb0f-89ca-4435-960e-858d40cca295",
   "metadata": {},
   "source": [
    "# Load modules"
   ]
  },
  {
   "cell_type": "code",
   "execution_count": null,
   "id": "2e9aa315-dbfd-4957-a8ca-692bc49ad579",
   "metadata": {},
   "outputs": [],
   "source": [
    "%load_ext autoreload\n",
    "%autoreload 2\n",
    "%matplotlib inline\n",
    "from issmmodules import *\n",
    "import numpy as np\n",
    "import matplotlib.pyplot as plt\n",
    "from cftime2datetime import *\n",
    "import pandas\n",
    "import scipy, scipy.io, scipy.interpolate\n",
    "\n",
    "import copy\n",
    "import tqdm"
   ]
  },
  {
   "cell_type": "markdown",
   "id": "c316f3bb-dd0d-47ab-a5f4-1390127ec940",
   "metadata": {},
   "source": [
    "# Load Antarctica domain"
   ]
  },
  {
   "cell_type": "code",
   "execution_count": null,
   "id": "5633b206-a32a-43d3-a8f0-ee6ebbc2c8b0",
   "metadata": {},
   "outputs": [],
   "source": [
    "print('Load Antarctica mesh')\n",
    "md = loadmodel_netcdf('../data/ANT_Mesh.nc')"
   ]
  },
  {
   "cell_type": "markdown",
   "id": "7068a5ee-f5d0-4dc3-9271-9c13498c25ab",
   "metadata": {},
   "source": [
    "# Do interpolation for daily dataset"
   ]
  },
  {
   "cell_type": "code",
   "execution_count": null,
   "id": "ef48312d-cf20-4e7c-83d2-e2a5aea80aa8",
   "metadata": {},
   "outputs": [],
   "source": [
    "if 0:\n",
    "    data_era5_day = {}\n",
    "    for varname in ['d2m','t2m','msr','mtpr','msdwlwrf','msdwswrf','sp','wind2m']:\n",
    "        print(f'Processing... {varname}')\n",
    "        ds = interpCDO(md.mesh.lat, md.mesh.long,\n",
    "                       f'../data/ERA5/day/era5_{varname}_1980,2000.nc', varname=varname)\n",
    "        data_era5_day[varname] = ds[varname].values\n",
    "    \n",
    "    print('Save dataset in matlab format.')\n",
    "    scipy.io.savemat('../data/Prepare/ANT_InterpERA5.mat',data_era5_day)"
   ]
  },
  {
   "cell_type": "code",
   "execution_count": null,
   "id": "4bd60bd9-d593-47fb-bf61-7d433cbc9884",
   "metadata": {},
   "outputs": [],
   "source": [
    "if 0:\n",
    "    data_era5_day = scipy.io.loadmat('../data/Prepare/ANT_InterpERA5.mat')"
   ]
  },
  {
   "cell_type": "markdown",
   "id": "2fc64ff4-41ae-410a-a1f2-0d5c3a12a664",
   "metadata": {},
   "source": [
    "# Do interpolation for monthly dataset"
   ]
  },
  {
   "cell_type": "code",
   "execution_count": null,
   "id": "0ec663d2-19a3-4de1-ad1a-343d3a3189fa",
   "metadata": {},
   "outputs": [],
   "source": [
    "data_era5 = {}\n",
    "for varname in ['d2m','t2m','msr','mtpr','msdwlwrf','msdwswrf','sp','wind2m']:\n",
    "# for varname in ['t2m']:\n",
    "    print(f'Processing... {varname}')\n",
    "    print(f'-- interpolate montly dataset.')\n",
    "    ds = interpCDO(md.mesh.lat, md.mesh.long,\n",
    "                   f'../data/ERA5/day/era5_{varname}_1980,2000.nc', varname=varname, monavg=1)\n",
    "    \n",
    "    # okay, figure out times\n",
    "    time = np.array([np.datetime64(t).astype('datetime64[ms]') for t in cftime2datetime(ds['time'])])\n",
    "\n",
    "    tspc = pandas.date_range(start=datetime.datetime(1980,1,1),\n",
    "                            end=datetime.datetime(2000,12,31))\n",
    "    tspc = np.array([np.datetime64(t).astype('datetime64[ms]') for t in tspc])\n",
    "    \n",
    "    print(f'-- time to seconds with timedelta.')\n",
    "    dtime = [t/np.timedelta64(1, 's') for t in (time - tspc[0])]\n",
    "    dtspc = [t/np.timedelta64(1, 's') for t in (tspc - tspc[0])]\n",
    "\n",
    "    print(f'-- fill monthly to daily dataset with cubic spline method.')\n",
    "    tmp     = copy.deepcopy(ds[varname])\n",
    "    tmp_day = np.zeros((len(tspc), md.mesh.numberofvertices))\n",
    "    for n in tqdm.tqdm(range(md.mesh.numberofvertices),\n",
    "                       bar_format='{l_bar}{bar:20}{r_bar}{bar:-10b}'):\n",
    "        interp = scipy.interpolate.interp1d(dtime, tmp[:,n], bounds_error=False, kind='cubic',\n",
    "                                   fill_value=(tmp[0,n], tmp[-1,n]))\n",
    "        tmp_day[:,n] = interp(dtspc)\n",
    "    data_era5[varname] = tmp_day[:]\n",
    "\n",
    "print('Save dataset in matlab format.')\n",
    "scipy.io.savemat('../data/Prepare/ANT_InterpERA5_Month.mat',data_era5)"
   ]
  },
  {
   "cell_type": "code",
   "execution_count": null,
   "id": "7c4862da-6db4-4cc8-b25a-e39845b57df9",
   "metadata": {},
   "outputs": [],
   "source": [
    "_ntime = 365*2\n",
    "fig, ax = plt.subplots()\n",
    "ax.plot(tspc[:_ntime], data_era5_day['t2m'][:_ntime,0], color='grey', alpha=.5)\n",
    "ax.plot(tspc[:_ntime], data_era5['t2m'][:_ntime,0])"
   ]
  }
 ],
 "metadata": {
  "kernelspec": {
   "display_name": "Python 3 (ipykernel)",
   "language": "python",
   "name": "python3"
  },
  "language_info": {
   "codemirror_mode": {
    "name": "ipython",
    "version": 3
   },
   "file_extension": ".py",
   "mimetype": "text/x-python",
   "name": "python",
   "nbconvert_exporter": "python",
   "pygments_lexer": "ipython3",
   "version": "3.9.16"
  }
 },
 "nbformat": 4,
 "nbformat_minor": 5
}
