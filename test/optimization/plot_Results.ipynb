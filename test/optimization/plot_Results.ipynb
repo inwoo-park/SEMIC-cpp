{
 "cells": [
  {
   "cell_type": "markdown",
   "metadata": {},
   "source": [
    "# Explain\n",
    "\n",
    "* Finally, we want to draw several figures.\n",
    "\n",
    "* Specific modules are required to draw figure!\n",
    "  "
   ]
  },
  {
   "cell_type": "markdown",
   "metadata": {},
   "source": [
    "# Load modules"
   ]
  },
  {
   "cell_type": "code",
   "execution_count": null,
   "metadata": {},
   "outputs": [],
   "source": [
    "%load_ext autoreload\n",
    "%autoreload 2\n",
    "%matplotlib inline\n",
    "import xarray\n",
    "import netCDF4\n",
    "import logging\n",
    "import matplotlib.pyplot as plt\n",
    "import numpy as np\n",
    "logging.basicConfig(encoding='utf-8')\n",
    "\t\t\t\t\t# stream=sys.stdout)\n",
    "logger = logging.getLogger()\n",
    "logger.setLevel(logging.INFO)\n",
    "\n",
    "# Okay, load issm modules\n",
    "from issmmodules import *"
   ]
  },
  {
   "cell_type": "code",
   "execution_count": null,
   "metadata": {},
   "outputs": [],
   "source": [
    "from interpXarrayGridToMesh import *\n",
    "from plot_gridded2 import *"
   ]
  },
  {
   "cell_type": "markdown",
   "metadata": {},
   "source": [
    "# Load Antarctica model"
   ]
  },
  {
   "cell_type": "code",
   "execution_count": null,
   "metadata": {},
   "outputs": [],
   "source": [
    "logger.info('Load ANT model domain')\n",
    "nc = netCDF4.Dataset('../data/ANT_Mesh.nc')\n",
    "# print(nc)\n",
    "elements = nc['/mesh/elements'][:]\n",
    "x = nc['/mesh/x'][:]\n",
    "y = nc['/mesh/y'][:]\n",
    "\n",
    "logger.info('Load ANT model written in netcdf file format.')\n",
    "md = loadmodel_netcdf('../data/ANT_Mesh.nc')"
   ]
  },
  {
   "cell_type": "markdown",
   "metadata": {},
   "source": [
    "## interpolate IMBIE2 mask"
   ]
  },
  {
   "cell_type": "code",
   "execution_count": null,
   "metadata": {},
   "outputs": [],
   "source": [
    "imbie_mask = interpXarrayGridToMesh('../data/IMIBIE2/basinNumbers_8km.nc',md.mesh.x,md.mesh.y,\n",
    "                           xname='x',yname='y',method='nearest')\n",
    "imbie_mask = np.array(imbie_mask['basinNumber'].values, dtype=int)"
   ]
  },
  {
   "cell_type": "code",
   "execution_count": null,
   "metadata": {},
   "outputs": [],
   "source": [
    "print(f'   min basin ID: {min(imbie_mask)}')\n",
    "plot_gridded2(md,imbie_mask,'dx',5000,'dy',5000,'pcolormesh',1)"
   ]
  },
  {
   "cell_type": "markdown",
   "metadata": {},
   "source": [
    "# Load interpolated ERA5 dataset"
   ]
  },
  {
   "cell_type": "code",
   "execution_count": null,
   "metadata": {},
   "outputs": [],
   "source": []
  },
  {
   "cell_type": "code",
   "execution_count": null,
   "metadata": {},
   "outputs": [],
   "source": []
  },
  {
   "cell_type": "code",
   "execution_count": null,
   "metadata": {},
   "outputs": [],
   "source": [
    "print(\"ANT semic results.\")\n",
    "result = netCDF4.Dataset('./ANT_SEMIC_ERA5_day.nc')\n",
    "display(result)"
   ]
  },
  {
   "cell_type": "code",
   "execution_count": null,
   "metadata": {},
   "outputs": [],
   "source": [
    "fig, ax = plt.subplots()\n",
    "im = ax.tricontourf(x, y, np.mean(result['melt'],axis=0),\n",
    "\t\t\t   triangles=elements-1)\n",
    "fig.colorbar(im)\n",
    "ax.set_aspect('equal')\n"
   ]
  },
  {
   "cell_type": "code",
   "execution_count": null,
   "metadata": {},
   "outputs": [],
   "source": []
  }
 ],
 "metadata": {
  "kernelspec": {
   "display_name": "Python 3 (ipykernel)",
   "language": "python",
   "name": "python3"
  },
  "language_info": {
   "codemirror_mode": {
    "name": "ipython",
    "version": 3
   },
   "file_extension": ".py",
   "mimetype": "text/x-python",
   "name": "python",
   "nbconvert_exporter": "python",
   "pygments_lexer": "ipython3",
   "version": "3.9.16"
  }
 },
 "nbformat": 4,
 "nbformat_minor": 4
}
